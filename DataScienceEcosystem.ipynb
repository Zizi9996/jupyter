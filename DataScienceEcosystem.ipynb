{
 "cells": [
  {
   "cell_type": "markdown",
   "id": "2cd6e601-dd50-4068-af3c-cb2785f76711",
   "metadata": {
    "tags": []
   },
   "source": [
    "# Data Science Tools and Ecosystem"
   ]
  },
  {
   "cell_type": "markdown",
   "id": "8e377c4d-557a-4fea-9207-75bd22e32eb1",
   "metadata": {},
   "source": [
    "In this notebook, Data Science Tools and Ecosystem are summarized."
   ]
  },
  {
   "cell_type": "raw",
   "id": "34e5065d-9621-4677-b548-923c78e71477",
   "metadata": {},
   "source": [
    "Some of the popular languages that Data Scientists use are:\n",
    "    1. Python\n",
    "    2. SQL\n",
    "    3. C++"
   ]
  },
  {
   "cell_type": "markdown",
   "id": "b165f5c1-3139-43ba-88fa-b0bc5a56bfc0",
   "metadata": {},
   "source": [
    "Some of the commonly used libraries used by Data Scientists include:\n",
    "1. TensorFlow\n",
    "2. NumPy\n",
    "3. SciPy\n",
    "4. Pandas\n",
    "5. Matplotlib\n",
    "6. Keras\n",
    "7. SciKit-Learn\n",
    "8. PyTorch"
   ]
  },
  {
   "cell_type": "markdown",
   "id": "9ad3c304-977c-4635-b9df-f0438846c27a",
   "metadata": {},
   "source": [
    "| Data Science Tools |\n",
    "| ------------------- |\n",
    "| Rstudio |\n",
    "| Jupyter notebook |\n",
    "| Vs Code |"
   ]
  },
  {
   "cell_type": "markdown",
   "id": "12a45047-f66f-4862-90b8-448f02436a63",
   "metadata": {},
   "source": [
    "### Below are a few examples of evaluating arithmetic expressions in Python"
   ]
  },
  {
   "cell_type": "code",
   "execution_count": 1,
   "id": "c88f35fe-cfa3-4875-a125-e6a25bd7f533",
   "metadata": {
    "tags": []
   },
   "outputs": [
    {
     "data": {
      "text/plain": [
       "17"
      ]
     },
     "execution_count": 1,
     "metadata": {},
     "output_type": "execute_result"
    }
   ],
   "source": [
    "#This a simple arithmetic expression to mutiply then add integers\n",
    "(3*4)+5"
   ]
  },
  {
   "cell_type": "code",
   "execution_count": 2,
   "id": "bf625b43-8403-491a-b387-6a129003daf1",
   "metadata": {
    "tags": []
   },
   "outputs": [
    {
     "name": "stdin",
     "output_type": "stream",
     "text": [
      "Enter Minutes :-->  200\n"
     ]
    },
    {
     "name": "stdout",
     "output_type": "stream",
     "text": [
      "Hour : Minute :-->  3  :  20\n"
     ]
    }
   ],
   "source": [
    "#This will convert 200 minutes to hours by diving by 60.\n",
    "min = int(input(\"Enter Minutes :--> \"))\n",
    "print(\"Hour : Minute :--> \", int(min/60), \" : \", min % 60)"
   ]
  },
  {
   "cell_type": "markdown",
   "id": "a84e0b01-f2dc-4947-a3d5-5606d40f9bc2",
   "metadata": {},
   "source": [
    "**Objectives:**\n",
    "- Identify commonly used libraries in Data Science\n",
    "- Identify common Data Science tools\n",
    "- List languages used in Data Science"
   ]
  },
  {
   "cell_type": "markdown",
   "id": "b1a3e0a8-05b3-4048-9ded-6f3a637b7049",
   "metadata": {},
   "source": [
    "## Author\n",
    "\n",
    "Yvonne "
   ]
  },
  {
   "cell_type": "code",
   "execution_count": null,
   "id": "9f9580f9-6f27-40a7-bb94-f362c06360bf",
   "metadata": {},
   "outputs": [],
   "source": []
  }
 ],
 "metadata": {
  "kernelspec": {
   "display_name": "Python",
   "language": "python",
   "name": "conda-env-python-py"
  },
  "language_info": {
   "codemirror_mode": {
    "name": "ipython",
    "version": 3
   },
   "file_extension": ".py",
   "mimetype": "text/x-python",
   "name": "python",
   "nbconvert_exporter": "python",
   "pygments_lexer": "ipython3",
   "version": "3.7.12"
  }
 },
 "nbformat": 4,
 "nbformat_minor": 5
}
